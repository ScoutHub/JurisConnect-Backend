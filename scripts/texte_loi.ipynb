{
 "cells": [
  {
   "cell_type": "code",
   "execution_count": 1,
   "metadata": {},
   "outputs": [],
   "source": [
    "import requests\n",
    "from json import dumps\n",
    "from time import sleep"
   ]
  },
  {
   "cell_type": "code",
   "execution_count": 2,
   "metadata": {},
   "outputs": [],
   "source": [
    "token_url = \"https://sandbox-oauth.piste.gouv.fr/api/oauth/token\"\n",
    "api_url = 'https://sandbox-api.piste.gouv.fr'"
   ]
  },
  {
   "cell_type": "code",
   "execution_count": 3,
   "metadata": {},
   "outputs": [],
   "source": [
    "client_id = \"\"\n",
    "client_secret = \"\"\n",
    "token = ''"
   ]
  },
  {
   "cell_type": "code",
   "execution_count": 4,
   "metadata": {},
   "outputs": [],
   "source": [
    "data = {\n",
    "    'grant_type': 'client_credentials',\n",
    "    'client_id': client_id,\n",
    "    'client_secret': client_secret,\n",
    "    'scope': 'openid'\n",
    "}"
   ]
  },
  {
   "cell_type": "code",
   "execution_count": 5,
   "metadata": {},
   "outputs": [],
   "source": [
    "headers = {\n",
    "    \"Content-Type\": \"application/x-www-form-urlencoded\"\n",
    "}"
   ]
  },
  {
   "cell_type": "code",
   "execution_count": null,
   "metadata": {},
   "outputs": [],
   "source": [
    "response = requests.post(token_url, data=data, headers=headers, timeout=3)\n",
    "if 200 <= response.status_code < 300:\n",
    "    token = response.json().get('access_token')\n",
    "    token = token\n",
    "    expires_in = response.json().get('expires_in')\n",
    "    print('Login successful')"
   ]
  },
  {
   "cell_type": "code",
   "execution_count": null,
   "metadata": {},
   "outputs": [],
   "source": [
    "token"
   ]
  },
  {
   "cell_type": "code",
   "execution_count": 8,
   "metadata": {},
   "outputs": [],
   "source": [
    "headers = {\n",
    "    \"Authorization\": f'Bearer {token}',\n",
    "    \"Content-Type\": 'application/json'\n",
    "}"
   ]
  },
  {
   "cell_type": "code",
   "execution_count": null,
   "metadata": {},
   "outputs": [],
   "source": [
    "data = {\n",
    "  \"fond\": \"CODE_DATE\",\n",
    "  \"recherche\": {\n",
    "    \"filtres\": [],\n",
    "    \"sort\": \"SIGNATURE_DATE_DESC\",\n",
    "    \"fromAdvancedRecherche\": \"false\",\n",
    "    \"secondSort\": \"ID\",\n",
    "    \"champs\": [\n",
    "      {\n",
    "        \"criteres\": [\n",
    "          {\n",
    "            \"valeur\": \"Code du Travail\",\n",
    "            \"operateur\": \"ET\",\n",
    "            \"typeRecherche\": \"EXACTE\"\n",
    "          }\n",
    "        ],\n",
    "        \"typeChamp\": \"TITLE\",\n",
    "        \"operateur\": \"ET\"\n",
    "      }\n",
    "    ],\n",
    "    \"pageSize\": 100,\n",
    "    \"operateur\": \"ET\",\n",
    "    \"typePagination\": \"DEFAUT\",\n",
    "    \"pageNumber\": 1\n",
    "  }\n",
    "}\n",
    "\n",
    "data = dumps(data)\n",
    "\n",
    "r = requests.post(f'{api_url}/dila/legifrance/lf-engine-app/search', headers=headers, data=data)\n",
    "if(r.status_code == 200):\n",
    "  articles += r.json()['results']"
   ]
  },
  {
   "cell_type": "code",
   "execution_count": null,
   "metadata": {},
   "outputs": [],
   "source": [
    "page_number = 1\n",
    "articles = []\n",
    "while True:\n",
    "  data = {\n",
    "  \"fond\": \"CODE_DATE\",\n",
    "  \"recherche\": {\n",
    "    \"filtres\": [],\n",
    "    \"sort\": \"SIGNATURE_DATE_DESC\",\n",
    "    \"fromAdvancedRecherche\": \"false\",\n",
    "    \"secondSort\": \"ID\",\n",
    "    \"champs\": [\n",
    "      {\n",
    "        \"criteres\": [\n",
    "          {\n",
    "            \"valeur\": \"Code du Travail\",\n",
    "            \"operateur\": \"ET\",\n",
    "            \"typeRecherche\": \"EXACTE\"\n",
    "          }\n",
    "        ],\n",
    "        \"typeChamp\": \"TITLE\",\n",
    "        \"operateur\": \"ET\"\n",
    "      }\n",
    "    ],\n",
    "    \"pageSize\": 100,\n",
    "    \"operateur\": \"ET\",\n",
    "    \"typePagination\": \"DEFAUT\",\n",
    "    \"pageNumber\": page_number\n",
    "  }\n",
    "}\n",
    "\n",
    "\n",
    "  data = dumps(data)\n",
    "\n",
    "  r = requests.post(f'{api_url}/dila/legifrance/lf-engine-app/search', headers=headers, data=data)\n",
    "  if(r.status_code == 200):\n",
    "    print(f'articles fetched for page {page_number}')\n",
    "    articles += r.json()['results']\n",
    "    print(f'articles added, len: {len(articles)}')\n",
    "    page_number += 1\n",
    "    if(len(r.json()['results']) < 100):\n",
    "      break\n",
    "    sleep(5)"
   ]
  },
  {
   "cell_type": "code",
   "execution_count": 11,
   "metadata": {},
   "outputs": [],
   "source": [
    "articles \n",
    "\n",
    "with open('ref_articles.json', 'w') as f:\n",
    "    f.write(dumps(articles))\n",
    "    f.close()\n"
   ]
  },
  {
   "cell_type": "code",
   "execution_count": null,
   "metadata": {},
   "outputs": [],
   "source": [
    "page_number = 1\n",
    "sections = []\n",
    "while True:\n",
    "  data = {\n",
    "  \"searchedString\": \"constitution 1958\",\n",
    "  \"date\": \"2021-07-01\",\n",
    "  \"textId\": \"LEGITEXT000006072050\"\n",
    "}\n",
    "\n",
    "  data = dumps(data)\n",
    "\n",
    "  r = requests.post(f'{api_url}/dila/legifrance/lf-engine-app/consult/legiPart', headers=headers, data=data)\n",
    "  if(r.status_code == 200):\n",
    "    print(f'articles fetched for page {page_number}')\n",
    "    articles += r.json()['sections']\n",
    "    print(f'articles added, len: {len(articles)}')\n",
    "    page_number += 1\n",
    "    if(len(r.json()['sections']) < 100):\n",
    "      break\n",
    "    sleep(5)"
   ]
  },
  {
   "cell_type": "code",
   "execution_count": 13,
   "metadata": {},
   "outputs": [],
   "source": [
    "sections\n",
    "\n",
    "with open('content_articles.json', 'w') as f:\n",
    "    f.write(dumps(articles))\n",
    "    f.close()"
   ]
  }
 ],
 "metadata": {
  "kernelspec": {
   "display_name": "Python 3",
   "language": "python",
   "name": "python3"
  },
  "language_info": {
   "codemirror_mode": {
    "name": "ipython",
    "version": 3
   },
   "file_extension": ".py",
   "mimetype": "text/x-python",
   "name": "python",
   "nbconvert_exporter": "python",
   "pygments_lexer": "ipython3",
   "version": "3.12.3"
  }
 },
 "nbformat": 4,
 "nbformat_minor": 2
}
